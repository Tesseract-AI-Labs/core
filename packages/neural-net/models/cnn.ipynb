{
 "cells": [
  {
   "cell_type": "markdown",
   "metadata": {},
   "source": [
    "## 1. Select mode\n",
    "mode='train' for the training, mode='predict' for the predictions\n",
    "uncomment the one you want to enable and comment the one you want to enable \n",
    "\n"
   ]
  },
  {
   "cell_type": "markdown",
   "metadata": {},
   "source": [
    "## 1. Select mode\n",
    "mode='train' for the training, mode='predict' for the predictions\n",
    "uncomment the one you want to enable and comment the one you want to enable "
   ]
  },
  {
   "cell_type": "code",
   "execution_count": null,
   "metadata": {},
   "outputs": [],
   "source": [
    "mode = 'train'\n",
    "# mode = 'predict'"
   ]
  },
  {
   "cell_type": "markdown",
   "metadata": {},
   "source": [
    "## 2. Import libraries"
   ]
  },
  {
   "cell_type": "code",
   "execution_count": null,
   "metadata": {},
   "outputs": [],
   "source": [
    "# clone github repo of detr\n",
    "!git clone https://github.com/facebookresearch/detr.git   \n",
    "\n",
    "# general libraries\n",
    "import os\n",
    "import numpy as np \n",
    "import pandas as pd \n",
    "from datetime import datetime\n",
    "import time\n",
    "import random\n",
    "from tqdm.autonotebook import tqdm\n",
    "import re\n",
    "import pydicom\n",
    "import warnings\n",
    "warnings.filterwarnings(\"ignore\")\n",
    "from matplotlib import pyplot as plt\n",
    "from PIL import Image\n",
    "\n",
    "# torch.\n",
    "import torch\n",
    "import torch.nn as nn\n",
    "from torch.utils.data import Dataset,DataLoader\n",
    "from torch.utils.data.sampler import SequentialSampler, RandomSampler\n",
    "from torchvision.models.detection.faster_rcnn import FastRCNNPredictor\n",
    "from torchvision.models.detection import FasterRCNN\n",
    "from torchvision.models.detection.rpn import AnchorGenerator\n",
    "from torch.utils.data import DataLoader, Dataset\n",
    "\n",
    "# sklearn\n",
    "from sklearn.model_selection import StratifiedKFold\n",
    "from sklearn import model_selection\n",
    "\n",
    "# CV\n",
    "import cv2\n",
    "\n",
    "# DETR FUCNTIONS FOR LOSS\n",
    "import sys\n",
    "sys.path.append('./detr/')\n",
    "\n",
    "from detr.models.matcher import HungarianMatcher\n",
    "from detr.models.detr import SetCriterion\n",
    "\n",
    "# albumenatations\n",
    "import albumentations as A\n",
    "import matplotlib.pyplot as plt\n",
    "from albumentations.pytorch.transforms import ToTensorV2\n",
    "\n",
    "# Glob\n",
    "from glob import glob\n",
    "\n",
    "# ensembling \n",
    "!pip install ensemble_boxes\n",
    "from tqdm import tqdm\n",
    "from ensemble_boxes import *\n",
    "\n",
    "# mAP\n",
    "!pip install map_boxes \n",
    "from map_boxes import mean_average_precision_for_boxes"
   ]
  },
  {
   "cell_type": "code",
   "execution_count": null,
   "metadata": {},
   "outputs": [],
   "source": [
    "# thoracic abnormalities\n",
    "CLASSES = [\n",
    "    'Aortic enlargement', 'Atelectasis', 'Calcification', 'Cardiomegaly', 'Consolidation',\n",
    "    'ILD', 'Infiltration', 'Lung Opacity', 'Nodule/Mass', 'Other lesion', \n",
    "    'Pleural effusion', 'Pleural thickening', 'Pneumothorax', 'Pulmonary fibrosis', 'No Finding'\n",
    "]\n",
    "\n",
    "# colors for visualization\n",
    "COLORS = [[0.000, 0.447, 0.741], [0.850, 0.325, 0.098], [0.929, 0.694, 0.125],\n",
    "          [0.494, 0.184, 0.556], [0.466, 0.674, 0.188], [0.301, 0.745, 0.933]]"
   ]
  },
  {
   "cell_type": "markdown",
   "metadata": {},
   "source": [
    "## 3. Preprocessing image metadata"
   ]
  },
  {
   "cell_type": "code",
   "execution_count": null,
   "metadata": {},
   "outputs": [],
   "source": [
    "def read_images():\n",
    "    # read the images with size 512x512 \n",
    "    # add the dataset in the data section if it is not added yet\n",
    "    train_df = pd.read_csv('../input/vinbigdata-512-image-dataset/vinbigdata/train.csv')\n",
    "    train_df.fillna(0, inplace=True)\n",
    "    return train_df\n"
   ]
  },
  {
   "cell_type": "markdown",
   "metadata": {},
   "source": [
    "### 3.1 Scale images"
   ]
  },
  {
   "cell_type": "code",
   "execution_count": null,
   "metadata": {},
   "outputs": [],
   "source": [
    "def scale_images(train_df):\n",
    "    # scale the coordinates of the bounding boxes from their initial values to fit the 512x512 images\n",
    "    # set to the images with no object (class 14), bounding box with coordinates [xmin=0 ymin=0 xmax=1 ymax=1]\n",
    "    train_df.loc[train_df[\"class_id\"] == 14, ['x_max', 'y_max']] = 1.0\n",
    "    train_df.loc[train_df[\"class_id\"] == 14, ['x_min', 'y_min']] = 0\n",
    "\n",
    "    # scale the input image coordinates to fit 512x512 image\n",
    "    IMG_SIZE = 512\n",
    "    train_df['xmin'] = (train_df['x_min']/train_df['width'])*IMG_SIZE\n",
    "    train_df['ymin'] = (train_df['y_min']/train_df['height'])*IMG_SIZE\n",
    "    train_df['xmax'] = (train_df['x_max']/train_df['width'])*IMG_SIZE\n",
    "    train_df['ymax'] = (train_df['y_max']/train_df['height'])*IMG_SIZE\n",
    "\n",
    "    # set to the images with no object (class 14), bounding box with coordinates [xmin=0 ymin=0 xmax=1 ymax=1]\n",
    "    train_df.loc[train_df[\"class_id\"] == 14, ['xmax', 'ymax']] = 1.0\n",
    "    train_df.loc[train_df[\"class_id\"] == 14, ['xmin', 'ymin']] = 0\n",
    "    return train_df"
   ]
  },
  {
   "cell_type": "markdown",
   "metadata": {},
   "source": [
    "### 3.2 Define folds"
   ]
  },
  {
   "cell_type": "code",
   "execution_count": null,
   "metadata": {},
   "outputs": [],
   "source": [
    "def define_folds(train_df):\n",
    "    unique_images = train_df[\"image_id\"].unique()\n",
    "    df_split = pd.DataFrame(unique_images, columns = ['unique_images']) \n",
    "\n",
    "    # create one column with the number of fold (for the k-fold cross validation)\n",
    "    df_split[\"kfold\"] = -1\n",
    "    df_split = df_split.sample(frac=1).reset_index(drop=True)\n",
    "    y = df_split.unique_images.values\n",
    "    kf = model_selection.GroupKFold(n_splits=5)\n",
    "    for f, (t_, v_) in enumerate(kf.split(X=df_split, y=y, groups=df_split.unique_images.values)):\n",
    "        df_split.loc[v_, \"kfold\"] = f\n",
    "\n",
    "    # annotated boxes from same \"image id\" (image) should be in the same fold [during training each image with its boxes is as one input]\n",
    "    train_df[\"kfold\"] = -1\n",
    "    for ind in train_df.index: \n",
    "         train_df[\"kfold\"][ind] = df_split.loc[ df_split[\"unique_images\"] ==  train_df[\"image_id\"][ind]][\"kfold\"]\n",
    "\n",
    "    train_df.set_index('image_id', inplace=True)\n",
    "    return train_df"
   ]
  },
  {
   "cell_type": "markdown",
   "metadata": {},
   "source": [
    "### 3.3 Weight boxes fusion "
   ]
  },
  {
   "cell_type": "code",
   "execution_count": null,
   "metadata": {},
   "outputs": [],
   "source": [
    "def boxes_fusion(df):\n",
    "    # apply weighted boxes fusion for ensemling overlapping annotated boxes\n",
    "    # Default WBF config \n",
    "    iou_thr = 0.75\n",
    "    skip_box_thr = 0.0001\n",
    "    sigma = 0.1\n",
    "    results = []\n",
    "    image_ids = df.index.unique()\n",
    "   \n",
    "    for image_id in tqdm(image_ids, total=len(image_ids)):\n",
    "        # All annotations for the current image.\n",
    "        data = df[df.index == image_id]\n",
    "        kfold = data['kfold'].unique()[0]\n",
    "        data = data.reset_index(drop=True)\n",
    "        \n",
    "        # WBF expects the coordinates in 0-1 range.\n",
    "        max_value = data.iloc[:, 4:].values.max()\n",
    "        data.loc[:, [\"xmin\", \"ymin\", \"xmax\", \"ymax\"]] = data.iloc[:, 4:] / max_value\n",
    "        #print(\"data\",data)\n",
    "        if data.class_id.unique()[0] !=14:\n",
    "            annotations = {}\n",
    "            weights = []\n",
    "            # Loop through all of the annotations\n",
    "            for idx, row in data.iterrows():\n",
    "                rad_id = row[\"rad_id\"]\n",
    "                if rad_id not in annotations:\n",
    "                    annotations[rad_id] = {\n",
    "                        \"boxes_list\": [],\n",
    "                        \"scores_list\": [],\n",
    "                        \"labels_list\": [],\n",
    "                    }\n",
    "                    # We consider all of the radiologists as equal.\n",
    "                    weights.append(1.0)\n",
    "                annotations[rad_id][\"boxes_list\"].append([row[\"xmin\"], row[\"ymin\"], row[\"xmax\"], row[\"ymax\"]])\n",
    "                annotations[rad_id][\"scores_list\"].append(1.0)\n",
    "                annotations[rad_id][\"labels_list\"].append(row[\"class_id\"])\n",
    "\n",
    "            boxes_list = []\n",
    "            scores_list = []\n",
    "            labels_list = []\n",
    "\n",
    "            for annotator in annotations.keys():\n",
    "                boxes_list.append(annotations[annotator][\"boxes_list\"])\n",
    "                scores_list.append(annotations[annotator][\"scores_list\"])\n",
    "                labels_list.append(annotations[annotator][\"labels_list\"])\n",
    "\n",
    "            # Calculate WBF\n",
    "            boxes, scores, labels = weighted_boxes_fusion(boxes_list,\n",
    "                scores_list,\n",
    "                labels_list,\n",
    "                weights=weights,\n",
    "                iou_thr=iou_thr,\n",
    "                skip_box_thr=skip_box_thr\n",
    "            )\n",
    "            for idx, box in enumerate(boxes):\n",
    "                results.append({\n",
    "                    \"image_id\": image_id,\n",
    "                    \"class_id\": int(labels[idx]),\n",
    "                    \"rad_id\": \"wbf\",\n",
    "                    \"xmin\": box[0]* max_value,\n",
    "                    \"ymin\": box[1]* max_value,\n",
    "                    \"xmax\": box[2]* max_value,\n",
    "                    \"ymax\": box[3]* max_value,\n",
    "                    \"kfold\":kfold,\n",
    "                })\n",
    "        # if class is nothing then have it once (instead of 3 times in the same image)\n",
    "        if data.class_id.unique()[0] ==14:\n",
    "            for idx, box in enumerate([0]):\n",
    "                results.append({\n",
    "                    \"image_id\": image_id,\n",
    "                    \"class_id\": data.class_id[0],\n",
    "                    \"rad_id\": \"wbf\",\n",
    "                    \"xmin\": 0,\n",
    "                    \"ymin\": 0,\n",
    "                    \"xmax\": 1,\n",
    "                    \"ymax\": 1,\n",
    "                    \"kfold\":kfold,\n",
    "                })\n",
    "            \n",
    "    results = pd.DataFrame(results)\n",
    "    return results"
   ]
  },
  {
   "cell_type": "markdown",
   "metadata": {},
   "source": [
    "### 3.4 Pascal to coco"
   ]
  },
  {
   "cell_type": "code",
   "execution_count": null,
   "metadata": {},
   "outputs": [],
   "source": [
    "def pascal_to_coco(train_df):\n",
    "    # Good exlanation of coco, pascal etc \n",
    "    # https://albumentations.ai/docs/getting_started/bounding_boxes_augmentation/\n",
    "    train_df['coco_x'] = train_df['xmin'] + (train_df['xmax'] - train_df['xmin'] )/2\n",
    "    train_df['coco_y'] = train_df['ymin'] + (train_df['ymax'] - train_df['ymin'] )/2\n",
    "    train_df['coco_w'] = train_df['xmax'] - train_df['xmin'] \n",
    "    train_df['coco_h'] = train_df['ymax'] - train_df['ymin'] \n",
    "\n",
    "    train_df.loc[train_df['class_id'] == 14, 'coco_x'] = 1\n",
    "    train_df.loc[train_df['class_id'] == 14, 'coco_y'] = 1\n",
    "    train_df.loc[train_df['class_id'] == 14, 'coco_w'] = 0.5\n",
    "    train_df.loc[train_df['class_id'] == 14, 'coco_h'] = 0.5\n",
    "    \n",
    "    return train_df"
   ]
  },
  {
   "cell_type": "markdown",
   "metadata": {},
   "source": [
    "### 3.5 Main preprocessing function"
   ]
  },
  {
   "cell_type": "code",
   "execution_count": null,
   "metadata": {},
   "outputs": [],
   "source": [
    "def preprocessing():\n",
    "    train_df = read_images()\n",
    "    train_df = scale_images(train_df)\n",
    "    train_df = define_folds(train_df)\n",
    "    train_df = boxes_fusion(train_df)\n",
    "    train_df.set_index('image_id', inplace=True)\n",
    "    train_df = pascal_to_coco(train_df)\n",
    "    return train_df"
   ]
  },
  {
   "cell_type": "markdown",
   "metadata": {},
   "source": [
    "## 4. Creating Image Dataset class"
   ]
  },
  {
   "cell_type": "code",
   "execution_count": null,
   "metadata": {},
   "outputs": [],
   "source": [
    "def get_train_transforms():\n",
    "    # image augmentations for the training set\n",
    "    return A.Compose([A.ToGray(p=0.01),\n",
    "                      A.Cutout(num_holes=10, max_h_size=32, max_w_size=32, fill_value=0, p=0.5),\n",
    "                      ToTensorV2(p=1.0)],\n",
    "                      p=1.0,\n",
    "                      bbox_params=A.BboxParams(format='coco',min_area=0, min_visibility=0,label_fields=['labels'])\n",
    "                      )\n",
    "\n",
    "def get_valid_transforms():\n",
    "    # image augmentations for the validation set\n",
    "    return A.Compose([ToTensorV2(p=1.0)], \n",
    "                      p=1.0, \n",
    "                      bbox_params=A.BboxParams(format='coco',min_area=0, min_visibility=0,label_fields=['labels'])\n",
    "                      )"
   ]
  },
  {
   "cell_type": "code",
   "execution_count": null,
   "metadata": {},
   "outputs": [],
   "source": [
    "DIR_TRAIN = '../input/vinbigdata-chest-xray-abnormalities-detection/train'\n",
    "DIR_TRAIN_PNG = '../input/vinbigdata-512-image-dataset/vinbigdata/train'\n",
    "\n",
    "import pydicom\n",
    "from pydicom.pixel_data_handlers.util import apply_voi_lut\n",
    "\n",
    "class VinDataset(Dataset):\n",
    "    def __init__(self,image_ids,dataframe,transforms=None):\n",
    "        self.image_ids = image_ids\n",
    "        self.df = dataframe\n",
    "        self.transforms = transforms\n",
    "        \n",
    "    def __len__(self) -> int:\n",
    "        return self.image_ids.shape[0]\n",
    "\n",
    "    def __getitem__(self,index):\n",
    "        image_id = self.image_ids[index]\n",
    "        records = self.df.loc[image_id]\n",
    "        labels = records['class_id']\n",
    "        \n",
    "        image = cv2.imread(f'{DIR_TRAIN_PNG}/{image_id}.png', cv2.IMREAD_COLOR)\n",
    "        image = cv2.cvtColor(image, cv2.COLOR_BGR2RGB).astype(np.float32)\n",
    "        \n",
    "        # DETR takes in data in coco format    \n",
    "        boxes = records[['coco_x', 'coco_y', 'coco_w', 'coco_h']].values\n",
    "     \n",
    "        # AS pointed out by PRVI It works better if the main class is labelled as zero\n",
    "        labels =  np.array(labels)\n",
    "    \n",
    "        if boxes.ndim == 1 : \n",
    "            boxes = np.expand_dims(boxes, axis=0)\n",
    "            labels = np.expand_dims(labels, axis=0)\n",
    "        \n",
    "        # AS pointed out by PRVI It works better if the main class is labelled as zero\n",
    "        labels =  np.array(labels)\n",
    "\n",
    "        if self.transforms:\n",
    "            sample = {\n",
    "                'image': image,\n",
    "                'bboxes': boxes,\n",
    "                'labels': labels\n",
    "            }\n",
    "\n",
    "        sample = self.transforms(**sample)\n",
    "        image = sample['image']\n",
    "        boxes = sample['bboxes']\n",
    "        labels = sample['labels']\n",
    "        \n",
    "        # Normalizing BBOXES\n",
    "        _,h,w = image.shape\n",
    "        boxes = A.augmentations.bbox_utils.normalize_bboxes(sample['bboxes'],rows=h,cols=w)\n",
    "\n",
    "        target = {}\n",
    "        target['boxes'] = torch.as_tensor(boxes,dtype=torch.float32)\n",
    "        target['labels'] = torch.as_tensor(labels,dtype=torch.long)\n",
    "        target['image_id'] = torch.tensor([index])\n",
    "\n",
    "        return image/255, target, image_id    "
   ]
  },
  {
   "cell_type": "markdown",
   "metadata": {},
   "source": [
    "## 5. DETR model initialization"
   ]
  },
  {
   "cell_type": "code",
   "execution_count": null,
   "metadata": {},
   "outputs": [],
   "source": [
    "import torch.nn.functional as F\n",
    "class DETRModel(nn.Module):\n",
    "    def __init__(self,num_classes,num_queries):\n",
    "        super(DETRModel,self).__init__()\n",
    "        self.num_classes = num_classes\n",
    "        self.num_queries = num_queries\n",
    "        self.model = torch.hub.load('facebookresearch/detr', 'detr_resnet50', pretrained=True)\n",
    "        \n",
    "        for param in self.model.parameters():\n",
    "            param.requires_grad = True\n",
    "\n",
    "\n",
    "        self.in_features = self.model.class_embed.in_features\n",
    "        \n",
    "        self.model.class_embed = nn.Linear(in_features=self.in_features,out_features=self.num_classes+1)\n",
    "        self.model.num_queries = self.num_queries\n",
    "        \n",
    "    def forward(self,images):\n",
    "        return self.model(images)"
   ]
  },
  {
   "cell_type": "markdown",
   "metadata": {},
   "source": [
    "## 6. Modeling functions"
   ]
  },
  {
   "cell_type": "markdown",
   "metadata": {},
   "source": [
    "### 6.1 Average meter"
   ]
  },
  {
   "cell_type": "code",
   "execution_count": null,
   "metadata": {},
   "outputs": [],
   "source": [
    "# AverageMeter - class for averaging loss,metric,etc over epochs\n",
    "class AverageMeter(object):\n",
    "    \"\"\"Computes and stores the average and current value\"\"\"\n",
    "    def __init__(self):\n",
    "        self.reset()\n",
    "\n",
    "    def reset(self):\n",
    "        self.val = 0\n",
    "        self.avg = 0\n",
    "        self.sum = 0\n",
    "        self.count = 0\n",
    "\n",
    "    def update(self, val, n=1):\n",
    "        self.sum += val * n\n",
    "        self.count += n\n",
    "        self.avg = self.sum / self.count"
   ]
  },
  {
   "cell_type": "markdown",
   "metadata": {},
   "source": [
    "### 6.2 Training Function"
   ]
  },
  {
   "cell_type": "code",
   "execution_count": null,
   "metadata": {},
   "outputs": [],
   "source": [
    "def train_fn(data_loader,model,criterion,optimizer,device,scheduler,epoch):\n",
    "    model.train()\n",
    "    criterion.train()\n",
    "    \n",
    "    summary_loss = AverageMeter()\n",
    "    \n",
    "    tk0 = tqdm(data_loader, total=len(data_loader))\n",
    "    \n",
    "    check_repeats = []\n",
    "    for step, (images, targets, image_ids) in enumerate(tk0):\n",
    "            if image_ids in check_repeats:\n",
    "                continue\n",
    "            else:\n",
    "                check_repeats.append(image_ids)\n",
    "\n",
    "                images = list(image.to(device) for image in images)\n",
    "                targets = [{k: v.to(device) for k, v in t.items()} for t in targets]\n",
    "                #print(\"images : {}\".format(images))\n",
    "\n",
    "                output = model(images)\n",
    "\n",
    "                loss_dict = criterion(output, targets)\n",
    "                weight_dict = criterion.weight_dict\n",
    "\n",
    "                losses = sum(loss_dict[k] * weight_dict[k] for k in loss_dict.keys() if k in weight_dict)\n",
    "\n",
    "                optimizer.zero_grad()\n",
    "\n",
    "                losses.backward()\n",
    "                optimizer.step()\n",
    "                if scheduler is not None:\n",
    "                    scheduler.step()\n",
    "\n",
    "                summary_loss.update(losses.item(),BATCH_SIZE)\n",
    "                tk0.set_postfix(loss=summary_loss.avg)\n",
    "\n",
    "    return summary_loss"
   ]
  },
  {
   "cell_type": "markdown",
   "metadata": {},
   "source": [
    "### 6.3 Evaluation Function"
   ]
  },
  {
   "cell_type": "code",
   "execution_count": null,
   "metadata": {},
   "outputs": [],
   "source": [
    "# for output bounding box post-processing\n",
    "def box_cxcywh_to_xyxy(x):\n",
    "    x_c, y_c, w, h = x.unbind(1)\n",
    "    b = [(x_c - 0.5 * w), (y_c - 0.5 * h),\n",
    "         (x_c + 0.5 * w), (y_c + 0.5 * h)]\n",
    "    return torch.stack(b, dim=1)\n",
    "\n",
    "def rescale_bboxes(out_bbox, size):\n",
    "    img_w, img_h = size\n",
    "    b = box_cxcywh_to_xyxy(out_bbox)\n",
    "    b = b * torch.tensor([img_w, img_h, img_w, img_h], dtype=torch.float32).to(device='cuda')\n",
    "    return b"
   ]
  },
  {
   "cell_type": "code",
   "execution_count": null,
   "metadata": {},
   "outputs": [],
   "source": [
    "def eval_fn(data_loader, model,criterion, device):\n",
    "    model.eval()\n",
    "    criterion.eval()\n",
    "    summary_loss = AverageMeter()\n",
    "    map_df = pd.DataFrame()\n",
    "    map_df_target = pd.DataFrame()\n",
    "    \n",
    "    with torch.no_grad():\n",
    "        check_repeats_val = []\n",
    "        tk0 = tqdm(data_loader, total=len(data_loader))\n",
    "        for step, (images, targets, image_ids) in enumerate(tk0):\n",
    "            if image_ids in check_repeats_val:\n",
    "                continue\n",
    "            else:\n",
    "                check_repeats_val.append(image_ids)\n",
    "\n",
    "                images = list(image.to(device) for image in images)\n",
    "                targets = [{k: v.to(device) for k, v in t.items()} for t in targets]\n",
    "                outputs = model(images)\n",
    "\n",
    "                # MAP targets\n",
    "                for count, label in enumerate(targets[0]['labels']):\n",
    "                    text = f'{CLASSES[label]}' \n",
    "                    xmin = targets[0]['boxes'][count][0] - (targets[0]['boxes'][count][2])/2\n",
    "                    xmax = targets[0]['boxes'][count][0] + (targets[0]['boxes'][count][2])/2  \n",
    "                    ymin = targets[0]['boxes'][count][1] - (targets[0]['boxes'][count][3])/2\n",
    "                    ymax = targets[0]['boxes'][count][1] + (targets[0]['boxes'][count][3])/2\n",
    "\n",
    "                    data = pd.DataFrame({\"ImageID\": [image_ids[0]],\"LabelName\": [text],\n",
    "                    \"XMin\": [xmin.item()], \"XMax\": [xmax.item()], \"YMin\": [ymin.item()], \"YMax\": [ymax.item()]})\n",
    "                    map_df_target = map_df_target.append(data)                \n",
    "\n",
    "                probas = outputs['pred_logits'].softmax(-1)[0, :, :-1]\n",
    "                keep = probas.max(-1).values > 0.08\n",
    "                boxes = rescale_bboxes(outputs['pred_boxes'][0, keep], (512,512))\n",
    "                prob = probas[keep]\n",
    "\n",
    "                colors = COLORS * 100\n",
    "                for p, (xmin, ymin, xmax, ymax), c in zip(prob, boxes.tolist(), colors):\n",
    "\n",
    "                    cl = p.argmax()\n",
    "                    text = f'{CLASSES[cl]}' \n",
    "                    \n",
    "                    # Dataframe for MAP\n",
    "                    data = pd.DataFrame({\"ImageID\": [image_ids[0]],\"LabelName\": [text], \"Conf\": [p[cl].item()], \"XMin\": [xmin/512], \"XMax\": [xmax/512], \"YMin\": [ymin/512], \"YMax\": [ymax/512]})\n",
    "                    map_df = map_df.append(data)          \n",
    "\n",
    "                loss_dict = criterion(outputs, targets)\n",
    "                weight_dict = criterion.weight_dict\n",
    "\n",
    "                losses = sum(loss_dict[k] * weight_dict[k] for k in loss_dict.keys() if k in weight_dict)\n",
    "\n",
    "                summary_loss.update(losses.item(),BATCH_SIZE)\n",
    "                tk0.set_postfix(loss=summary_loss.avg)\n",
    "        \n",
    "        ann = map_df_target[['ImageID', 'LabelName', 'XMin', 'XMax', 'YMin', 'YMax']].values\n",
    "        det = map_df[['ImageID', 'LabelName', 'Conf', 'XMin', 'XMax', 'YMin', 'YMax']].values\n",
    "        mean_ap, average_precisions = mean_average_precision_for_boxes(ann, det, iou_threshold=0.4)\n",
    "\n",
    "        print(\"mean_ap : {}\".format(mean_ap))\n",
    "        print(\"average_precisions : {}\".format(average_precisions))\n",
    "        \n",
    "    return summary_loss, mean_ap"
   ]
  },
  {
   "cell_type": "markdown",
   "metadata": {},
   "source": [
    "### 6.4 Run DETR"
   ]
  },
  {
   "cell_type": "code",
   "execution_count": null,
   "metadata": {},
   "outputs": [],
   "source": [
    "def collate_fn(batch):\n",
    "    return tuple(zip(*batch))"
   ]
  },
  {
   "cell_type": "code",
   "execution_count": null,
   "metadata": {},
   "outputs": [],
   "source": [
    "def run(train_df, fold):\n",
    "            \n",
    "    df_train = train_df[train_df['kfold'] != fold]\n",
    "    df_valid = train_df[train_df['kfold'] == fold]\n",
    "\n",
    "    train_dataset = VinDataset(\n",
    "    image_ids=df_train.index.values,\n",
    "    dataframe=df_train,\n",
    "    transforms=get_train_transforms()\n",
    "    )\n",
    "\n",
    "    valid_dataset = VinDataset(\n",
    "    image_ids=df_valid.index.values,\n",
    "    dataframe=df_valid,\n",
    "    transforms=get_valid_transforms()\n",
    "    )\n",
    "    \n",
    "    train_data_loader = DataLoader(\n",
    "    train_dataset,\n",
    "    batch_size=BATCH_SIZE,\n",
    "    shuffle=True,\n",
    "    num_workers=4,\n",
    "    collate_fn=collate_fn\n",
    "    )\n",
    "\n",
    "    valid_data_loader = DataLoader(\n",
    "    valid_dataset,\n",
    "    batch_size=1,\n",
    "    shuffle=False,\n",
    "    num_workers=4,\n",
    "    collate_fn=collate_fn\n",
    "    )\n",
    "    \n",
    "    # Bipartite Matching Loss\n",
    "    matcher = HungarianMatcher()\n",
    "    weight_dict = weight_dict = {'loss_ce': 1, 'loss_bbox': 1 , 'loss_giou': 1}\n",
    "    losses = ['labels', 'boxes', 'cardinality']\n",
    "\n",
    "    device = torch.device('cuda')\n",
    "    model = DETRModel(num_classes=num_classes,num_queries=num_queries)\n",
    "    model = model.to(device)\n",
    "    criterion = SetCriterion(num_classes, matcher, weight_dict, eos_coef = null_class_coef, losses=losses)\n",
    "    criterion = criterion.to(device)\n",
    "    \n",
    "    LR = 3e-5\n",
    "    optimizer = torch.optim.AdamW(model.parameters(), lr=LR)\n",
    "   \n",
    "    best_loss = 0\n",
    "    val_loss_track_switch = 0\n",
    "    all_train_losses = []\n",
    "    all_valid_losses = []\n",
    "    all_mean_ap = []\n",
    "    columns = ['train_losses', 'valid_losses', 'mean_ap']\n",
    "    df_losses = pd.DataFrame(columns = columns )\n",
    "    df_losses.to_csv(\"all_losses.csv\",mode='a', index=False)\n",
    "    for epoch in range(EPOCHS):\n",
    "        optimizer = torch.optim.AdamW(model.parameters(), lr=LR)\n",
    "        train_loss = train_fn(train_data_loader, model,criterion, optimizer,device,scheduler=None,epoch=epoch)\n",
    "        if val_loss_track_switch % 2 == 0: \n",
    "            LR = LR/1.12        \n",
    "            valid_loss, map_validation = eval_fn(valid_data_loader, model,criterion, device)\n",
    "        val_loss_track_switch = val_loss_track_switch + 1\n",
    "        \n",
    "        df_losses = df_losses.append({'train_losses': train_loss.avg,'valid_losses': valid_loss.avg,'mean_ap': map_validation}, ignore_index=True)\n",
    "        df_losses.to_csv(\"all_losses.csv\",index=False, header=False,mode='a')\n",
    "        df_losses.drop(df_losses.tail(1).index,inplace=True)\n",
    "        \n",
    "        print('|EPOCH {}| TRAIN_LOSS {}| VALID_LOSS {}|'.format(epoch+1,train_loss.avg,valid_loss.avg))\n",
    "        \n",
    "        if map_validation > best_loss:\n",
    "            best_loss = map_validation\n",
    "            print('Best model found for Fold {} in Epoch {}........Saving Model'.format(fold,epoch+1))\n",
    "            torch.save(model.state_dict(), f'detr_model.pth')\n",
    "    return model"
   ]
  },
  {
   "cell_type": "markdown",
   "metadata": {},
   "source": [
    "## 7. Main training function "
   ]
  },
  {
   "cell_type": "code",
   "execution_count": null,
   "metadata": {},
   "outputs": [],
   "source": [
    "n_folds = 5\n",
    "seed = 42\n",
    "num_classes = 15\n",
    "num_queries = 2\n",
    "null_class_coef = 0.2\n",
    "BATCH_SIZE = 32\n",
    "EPOCHS = 16"
   ]
  },
  {
   "cell_type": "code",
   "execution_count": null,
   "metadata": {},
   "outputs": [],
   "source": [
    "def model_training():\n",
    "    train_df = preprocessing()\n",
    "    import torch, gc\n",
    "    gc.collect()\n",
    "    torch.cuda.empty_cache()\n",
    "\n",
    "    # run this function for training the model\n",
    "    model = run(train_df, fold=0)\n",
    "    return"
   ]
  },
  {
   "cell_type": "code",
   "execution_count": null,
   "metadata": {},
   "outputs": [],
   "source": [
    "if mode == 'train':\n",
    "    model_training()"
   ]
  },
  {
   "cell_type": "markdown",
   "metadata": {},
   "source": [
    "## 8. Prediction"
   ]
  },
  {
   "cell_type": "markdown",
   "metadata": {},
   "source": [
    "### 8.1 Load model\n",
    "\n",
    "After training the model, comment the line \"model = run(fold=0)\", and load the model to run the predictions in the test set "
   ]
  },
  {
   "cell_type": "code",
   "execution_count": null,
   "metadata": {},
   "outputs": [],
   "source": [
    "def load_model():\n",
    "    ## Loading a model\n",
    "    num_classes = 15\n",
    "    num_queries = 2\n",
    "    model = DETRModel(num_classes=num_classes,num_queries=num_queries)\n",
    "    model.load_state_dict(torch.load(\"../input/chest-result-pth/detr_model.pth\", map_location=torch.device('cpu')))\n",
    "    return model"
   ]
  }
 ],
 "metadata": {
  "language_info": {
   "name": "python"
  },
  "orig_nbformat": 4
 },
 "nbformat": 4,
 "nbformat_minor": 2
}
